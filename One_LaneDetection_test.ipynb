{
  "nbformat": 4,
  "nbformat_minor": 0,
  "metadata": {
    "colab": {
      "provenance": [],
      "collapsed_sections": [],
      "include_colab_link": true
    },
    "kernelspec": {
      "name": "python3",
      "display_name": "Python 3"
    },
    "language_info": {
      "name": "python"
    }
  },
  "cells": [
    {
      "cell_type": "markdown",
      "metadata": {
        "id": "view-in-github",
        "colab_type": "text"
      },
      "source": [
        "<a href=\"https://colab.research.google.com/github/poliduckie/MPC/blob/main/One_LaneDetection_test.ipynb\" target=\"_parent\"><img src=\"https://colab.research.google.com/assets/colab-badge.svg\" alt=\"Open In Colab\"/></a>"
      ]
    },
    {
      "cell_type": "markdown",
      "source": [
        "# IMPORTS\n",
        "\n"
      ],
      "metadata": {
        "id": "FcfmdC41mLto"
      }
    },
    {
      "cell_type": "code",
      "source": [
        "!pip install moviepy\n",
        "!pip install ipython\n",
        "!pip install opencv-python\n",
        "!pip install glob2\n",
        "!git clone https://github.com/uppala75/CarND-Advanced-Lane-Lines.git\n",
        "!pip install pickle\n",
        "!pip install tracker\n",
        "%cd CarND-Advanced-Lane-Lines\n",
        "%mkdir duckie_img\n",
        "\n",
        "from google.colab import drive\n",
        "drive.mount('/content/drive')\n"
      ],
      "metadata": {
        "colab": {
          "base_uri": "https://localhost:8080/"
        },
        "id": "JEhFBoMcsgsu",
        "outputId": "b6e40445-b09c-41de-a905-a8aba877ac66"
      },
      "execution_count": 3,
      "outputs": [
        {
          "output_type": "stream",
          "name": "stdout",
          "text": [
            "Looking in indexes: https://pypi.org/simple, https://us-python.pkg.dev/colab-wheels/public/simple/\n",
            "Requirement already satisfied: moviepy in /usr/local/lib/python3.7/dist-packages (0.2.3.5)\n",
            "Requirement already satisfied: tqdm<5.0,>=4.11.2 in /usr/local/lib/python3.7/dist-packages (from moviepy) (4.64.1)\n",
            "Requirement already satisfied: imageio<3.0,>=2.1.2 in /usr/local/lib/python3.7/dist-packages (from moviepy) (2.9.0)\n",
            "Requirement already satisfied: numpy in /usr/local/lib/python3.7/dist-packages (from moviepy) (1.21.6)\n",
            "Requirement already satisfied: decorator<5.0,>=4.0.2 in /usr/local/lib/python3.7/dist-packages (from moviepy) (4.4.2)\n",
            "Requirement already satisfied: pillow in /usr/local/lib/python3.7/dist-packages (from imageio<3.0,>=2.1.2->moviepy) (7.1.2)\n",
            "Looking in indexes: https://pypi.org/simple, https://us-python.pkg.dev/colab-wheels/public/simple/\n",
            "Requirement already satisfied: ipython in /usr/local/lib/python3.7/dist-packages (7.9.0)\n",
            "Requirement already satisfied: prompt-toolkit<2.1.0,>=2.0.0 in /usr/local/lib/python3.7/dist-packages (from ipython) (2.0.10)\n",
            "Collecting jedi>=0.10\n",
            "  Downloading jedi-0.18.1-py2.py3-none-any.whl (1.6 MB)\n",
            "\u001b[K     |████████████████████████████████| 1.6 MB 5.1 MB/s \n",
            "\u001b[?25hRequirement already satisfied: traitlets>=4.2 in /usr/local/lib/python3.7/dist-packages (from ipython) (5.1.1)\n",
            "Requirement already satisfied: pexpect in /usr/local/lib/python3.7/dist-packages (from ipython) (4.8.0)\n",
            "Requirement already satisfied: decorator in /usr/local/lib/python3.7/dist-packages (from ipython) (4.4.2)\n",
            "Requirement already satisfied: setuptools>=18.5 in /usr/local/lib/python3.7/dist-packages (from ipython) (57.4.0)\n",
            "Requirement already satisfied: pickleshare in /usr/local/lib/python3.7/dist-packages (from ipython) (0.7.5)\n",
            "Requirement already satisfied: pygments in /usr/local/lib/python3.7/dist-packages (from ipython) (2.6.1)\n",
            "Requirement already satisfied: backcall in /usr/local/lib/python3.7/dist-packages (from ipython) (0.2.0)\n",
            "Requirement already satisfied: parso<0.9.0,>=0.8.0 in /usr/local/lib/python3.7/dist-packages (from jedi>=0.10->ipython) (0.8.3)\n",
            "Requirement already satisfied: wcwidth in /usr/local/lib/python3.7/dist-packages (from prompt-toolkit<2.1.0,>=2.0.0->ipython) (0.2.5)\n",
            "Requirement already satisfied: six>=1.9.0 in /usr/local/lib/python3.7/dist-packages (from prompt-toolkit<2.1.0,>=2.0.0->ipython) (1.15.0)\n",
            "Requirement already satisfied: ptyprocess>=0.5 in /usr/local/lib/python3.7/dist-packages (from pexpect->ipython) (0.7.0)\n",
            "Installing collected packages: jedi\n",
            "Successfully installed jedi-0.18.1\n",
            "Looking in indexes: https://pypi.org/simple, https://us-python.pkg.dev/colab-wheels/public/simple/\n",
            "Requirement already satisfied: opencv-python in /usr/local/lib/python3.7/dist-packages (4.6.0.66)\n",
            "Requirement already satisfied: numpy>=1.14.5 in /usr/local/lib/python3.7/dist-packages (from opencv-python) (1.21.6)\n",
            "Looking in indexes: https://pypi.org/simple, https://us-python.pkg.dev/colab-wheels/public/simple/\n",
            "Requirement already satisfied: glob2 in /usr/local/lib/python3.7/dist-packages (0.7)\n",
            "Cloning into 'CarND-Advanced-Lane-Lines'...\n",
            "remote: Enumerating objects: 143, done.\u001b[K\n",
            "remote: Total 143 (delta 0), reused 0 (delta 0), pack-reused 143\u001b[K\n",
            "Receiving objects: 100% (143/143), 18.87 MiB | 30.72 MiB/s, done.\n",
            "Resolving deltas: 100% (23/23), done.\n",
            "Looking in indexes: https://pypi.org/simple, https://us-python.pkg.dev/colab-wheels/public/simple/\n",
            "\u001b[31mERROR: Could not find a version that satisfies the requirement pickle (from versions: none)\u001b[0m\n",
            "\u001b[31mERROR: No matching distribution found for pickle\u001b[0m\n",
            "Looking in indexes: https://pypi.org/simple, https://us-python.pkg.dev/colab-wheels/public/simple/\n",
            "Collecting tracker\n",
            "  Downloading tracker-0.1.1.tar.gz (2.3 kB)\n",
            "Building wheels for collected packages: tracker\n",
            "  Building wheel for tracker (setup.py) ... \u001b[?25l\u001b[?25hdone\n",
            "  Created wheel for tracker: filename=tracker-0.1.1-py3-none-any.whl size=3130 sha256=b26086883ff7427bf165c9075928ad47520c576d2501530383f2bf89946b82fa\n",
            "  Stored in directory: /root/.cache/pip/wheels/cd/23/32/34c69c8990bb1b3e4b2c84101efc0b2d0729843d6eb4588a57\n",
            "Successfully built tracker\n",
            "Installing collected packages: tracker\n",
            "Successfully installed tracker-0.1.1\n",
            "/content/CarND-Advanced-Lane-Lines\n",
            "Mounted at /content/drive\n"
          ]
        }
      ]
    },
    {
      "cell_type": "code",
      "source": [
        "import matplotlib.pyplot as plt\n",
        "import numpy as np\n",
        "import matplotlib.image as mpimg\n",
        "import matplotlib.gridspec as gridspec\n",
        "import cv2 \n",
        "import glob\n",
        "import pickle\n",
        "from tracker import tracker\n",
        "import os\n"
      ],
      "metadata": {
        "id": "dle63AtD1z-o"
      },
      "execution_count": 4,
      "outputs": []
    },
    {
      "cell_type": "code",
      "source": [
        "# Read and make a list of test images\n",
        "images = glob.glob('/content/drive/My Drive/*.png')\n",
        "gidx = 0\n"
      ],
      "metadata": {
        "id": "8gVNXueLJXxX"
      },
      "execution_count": 5,
      "outputs": []
    },
    {
      "cell_type": "markdown",
      "source": [
        "# SUPPORT FUNCTIONS"
      ],
      "metadata": {
        "id": "9VE6fPi3nLOA"
      }
    },
    {
      "cell_type": "code",
      "source": [
        "# Define a function that takes an image, gradient orientation,\n",
        "# and threshold min / max values.\n",
        "\n",
        "def abs_sobel_thresh(img, orient='x', thresh_min=25, thresh_max=255):\n",
        "    # Convert to grayscale\n",
        "    # gray = cv2.cvtColor(img, cv2.COLOR_RGB2GRAY)\n",
        "    hls = cv2.cvtColor(img, cv2.COLOR_RGB2HLS).astype(np.float)\n",
        "    l_channel = hls[:,:,1]\n",
        "    s_channel = hls[:,:,2]\n",
        "    # Apply x or y gradient with the OpenCV Sobel() function\n",
        "    # and take the absolute value\n",
        "    if orient == 'x':\n",
        "        abs_sobel = np.absolute(cv2.Sobel(l_channel, cv2.CV_64F, 1, 0))\n",
        "    if orient == 'y':\n",
        "        abs_sobel = np.absolute(cv2.Sobel(l_channel, cv2.CV_64F, 0, 1))\n",
        "    # Rescale back to 8 bit integer\n",
        "    scaled_sobel = np.uint8(255*abs_sobel/np.max(abs_sobel))\n",
        "    # Create a copy and apply the threshold\n",
        "    binary_output = np.zeros_like(scaled_sobel)\n",
        "    # Here I'm using inclusive (>=, <=) thresholds, but exclusive is ok too\n",
        "    binary_output[(scaled_sobel >= thresh_min) & (scaled_sobel <= thresh_max)] = 1\n",
        "\n",
        "    # Return the result\n",
        "    return binary_output\n",
        "\n",
        "# Define a function to return the magnitude of the gradient for a given sobel kernel size and threshold values\n",
        "def mag_thresh(img, sobel_kernel=3, mag_thresh=(0, 255)):\n",
        "    # Convert to grayscale\n",
        "    gray = cv2.cvtColor(img, cv2.COLOR_RGB2GRAY)\n",
        "    # Take both Sobel x and y gradients\n",
        "    sobelx = cv2.Sobel(gray, cv2.CV_64F, 1, 0, ksize=sobel_kernel)\n",
        "    sobely = cv2.Sobel(gray, cv2.CV_64F, 0, 1, ksize=sobel_kernel)\n",
        "    # Calculate the gradient magnitude\n",
        "    gradmag = np.sqrt(sobelx**2 + sobely**2)\n",
        "    # Rescale to 8 bit\n",
        "    scale_factor = np.max(gradmag)/255 \n",
        "    gradmag = (gradmag/scale_factor).astype(np.uint8) \n",
        "    # Create a binary image of ones where threshold is met, zeros otherwise\n",
        "    binary_output = np.zeros_like(gradmag)\n",
        "    binary_output[(gradmag >= mag_thresh[0]) & (gradmag <= mag_thresh[1])] = 1\n",
        "\n",
        "    # Return the binary image\n",
        "    return binary_output\n",
        "\n",
        "# Define a function to threshold an image for a given range and Sobel kernel\n",
        "def dir_threshold(img, sobel_kernel=3, thresh=(0, np.pi/2)):\n",
        "    # Grayscale\n",
        "    gray = cv2.cvtColor(img, cv2.COLOR_RGB2GRAY)\n",
        "    # Calculate the x and y gradients\n",
        "    sobelx = cv2.Sobel(gray, cv2.CV_64F, 1, 0, ksize=sobel_kernel)\n",
        "    sobely = cv2.Sobel(gray, cv2.CV_64F, 0, 1, ksize=sobel_kernel)\n",
        "    # Take the absolute value of the gradient direction, \n",
        "    # apply a threshold, and create a binary image result\n",
        "    absgraddir = np.arctan2(np.absolute(sobely), np.absolute(sobelx))\n",
        "    binary_output =  np.zeros_like(absgraddir)\n",
        "    binary_output[(absgraddir >= thresh[0]) & (absgraddir <= thresh[1])] = 1\n",
        "\n",
        "    # Return the binary image\n",
        "    return binary_output\n",
        "\n",
        "def color_threshold(image, sthresh=(0,255), vthresh=(0,255)):\n",
        "    hls = cv2.cvtColor(image, cv2.COLOR_RGB2HLS)\n",
        "    s_channel = hls[:,:,2]\n",
        "    s_binary = np.zeros_like(s_channel)\n",
        "    s_binary[(s_channel > sthresh[0]) & (s_channel <= sthresh[1])] = 1\n",
        "\n",
        "    hsv = cv2.cvtColor(image, cv2.COLOR_RGB2HSV)\n",
        "    v_channel = hsv[:,:,2]\n",
        "    v_binary = np.zeros_like(v_channel)\n",
        "    v_binary[(v_channel > vthresh[0]) & (v_channel <= vthresh[1])] = 1\n",
        "\n",
        "    output = np.zeros_like(s_channel)\n",
        "    output[(s_binary == 1) & (v_binary) == 1] = 1\n",
        "\n",
        "    # Return the combined s_channel & v_channel binary image\n",
        "    return output\n",
        "\n",
        "def s_channel_threshold(image, sthresh=(0,255)):\n",
        "    hls = cv2.cvtColor(image, cv2.COLOR_RGB2HLS)\n",
        "    s_channel = hls[:, :, 2]  # use S channel\n",
        "\n",
        "    # create a copy and apply the threshold\n",
        "    binary_output = np.zeros_like(s_channel)\n",
        "    binary_output[(s_channel >= sthresh[0]) & (s_channel <= sthresh[1])] = 1\n",
        "    return binary_output\n",
        "\n",
        "def window_mask(width, height, img_ref, center, level):\n",
        "    output = np.zeros_like(img_ref)\n",
        "    output[int(img_ref.shape[0]-(level+1)*height):int(img_ref.shape[0]-level*height), max(0,int(center-width)):min(int(center+width),img_ref.shape[1])] = 1\n",
        "    return output"
      ],
      "metadata": {
        "id": "1xVD4vssnEQZ"
      },
      "execution_count": 8,
      "outputs": []
    },
    {
      "cell_type": "markdown",
      "source": [
        "# BIRD EYE"
      ],
      "metadata": {
        "id": "ccqqvfTclkhd"
      }
    },
    {
      "cell_type": "code",
      "source": [
        "\n",
        "#read in image\n",
        "img = cv2.imread(images[0])\n",
        "#undistort the image\n",
        "#img = cv2.undistort(img,mtx,dist,None,mtx)\n",
        "  #img = cv2.undistort(img,mtx,dist,None,mtx)\n",
        "y=0\n",
        "x=50\n",
        "h=250\n",
        "w=300\n",
        "img = img[y:y+h, x:x+w]\n",
        "preprocessImage=img[:,:,0]\n",
        "\n",
        "img_size = (img.shape[1],img.shape[0])\n",
        "\n",
        "bot_width = .9 # percentage of bottom trapezoidal height\n",
        "mid_width = .2 # percentage of mid trapezoidal height\n",
        "height_pct = .37 # percentage of trapezoidal height\n",
        "bottom_trim= .835 # percentage from top to bottom avoiding the hood of the car\n",
        "\n",
        "src = np.float32([[img.shape[1]*(0.5-mid_width/2), img.shape[0]*height_pct],[img.shape[1]*(0.5+mid_width/2),img.shape[0]*height_pct],[img.shape[1]*(0.5+bot_width/2), img.shape[0]*bottom_trim],[img.shape[1]*(0.5-bot_width/2), img.shape[0]*bottom_trim]])\n",
        "offset = img_size[0]*0.25\n",
        "dst = np.float32([[offset,0],[img_size[0]-offset,0],[img_size[0]-offset,img_size[1]],[offset,img_size[1]]])\n",
        "\n",
        "#perform the warp perspective transform\n",
        "M = cv2.getPerspectiveTransform(src,dst)\n",
        "Minv = cv2.getPerspectiveTransform(dst,src)\n",
        "warped = cv2.warpPerspective(preprocessImage, M, img_size, flags=cv2.INTER_LINEAR)\n",
        "\n",
        "\n",
        "#Visualize the results before/after warping for a birds-eye view along with the source & destination co-ordinate locations\n",
        "plt.figure(figsize = (30,20))\n",
        "grid = gridspec.GridSpec(8,2)\n",
        "# set the spacing between axes.\n",
        "grid.update(wspace=0.05, hspace=0.05)  \n",
        "\n",
        "plt.subplot(grid[gidx])\n",
        "plt.imshow(img, cmap=\"gray\")\n",
        "for i in range(4):\n",
        "    plt.plot(src[i][0],src[i][1],'rs')\n",
        "plt.title('Undistorted Image')\n",
        "\n",
        "plt.subplot(grid[gidx+1])\n",
        "plt.imshow(warped, cmap=\"gray\")\n",
        "for i in range(4):\n",
        "    plt.plot(dst[i][0],dst[i][1],'rs')\n",
        "plt.title('Birds eye view')\n",
        "\n",
        "plt.show()\n",
        "\n",
        "\n",
        "\n"
      ],
      "metadata": {
        "colab": {
          "base_uri": "https://localhost:8080/",
          "height": 194
        },
        "id": "5IltuZfI6zRe",
        "outputId": "ab933d20-4f1c-44d4-f425-5c2c92f9787f"
      },
      "execution_count": 9,
      "outputs": [
        {
          "output_type": "display_data",
          "data": {
            "text/plain": [
              "<Figure size 2160x1440 with 2 Axes>"
            ],
            "image/png": "[encoded data removed]"
          },
          "metadata": {
            "needs_background": "light"
          }
        }
      ]
    },
    {
      "cell_type": "markdown",
      "source": [
        "#SLIDING WINDOW"
      ],
      "metadata": {
        "id": "tvQXTgT1lo7q"
      }
    },
    {
      "cell_type": "code",
      "source": [
        "\n",
        "window_width = 10\n",
        "window_height = 8\n",
        "\n",
        "#set up the overall class to do the lane line tracking\n",
        "curve_centers = tracker(Mywindow_width=window_width, Mywindow_height=window_height, Mymargin = 25, My_ym = 10/720, My_xm = 4/384, Mysmooth_factor=15)\n",
        "\n",
        "window_centroids = curve_centers.find_window_centroids(warped)\n",
        "\n",
        "# Points used to draw all the left and right windows\n",
        "l_points = np.zeros_like(warped)\n",
        "r_points = np.zeros_like(warped)\n",
        "    \n",
        "# points used to find the right & left lanes\n",
        "rightx = []\n",
        "leftx = []\n",
        "\n",
        "# Go through each level and draw the windows \n",
        "for level in range(0,len(window_centroids)):\n",
        "    # Window_mask is a function to draw window areas\n",
        "    # Add center value found in frame to the list of lane points per left, right\n",
        "    leftx.append(window_centroids[level][0])\n",
        "    rightx.append(window_centroids[level][1])\n",
        "\n",
        "    l_mask = window_mask(window_width,window_height,warped,window_centroids[level][0],level)\n",
        "    r_mask = window_mask(window_width,window_height,warped,window_centroids[level][1],level)\n",
        "    # Add graphic points from window mask here to total pixels found \n",
        "    l_points[(l_points == 255) | ((l_mask == 1) ) ] = 255\n",
        "    r_points[(r_points == 255) | ((r_mask == 1) ) ] = 255\n",
        "\n",
        "# Draw the results\n",
        "template = np.array(r_points+l_points,np.uint8) # add both left and right window pixels together\n",
        "zero_channel = np.zeros_like(template) # create a zero color channel\n",
        "template = np.array(cv2.merge((zero_channel,template,zero_channel)),np.uint8) # make window pixels green\n",
        "warpage = np.array(cv2.merge((warped,warped,warped)),np.uint8) # making the original road pixels 3 color channels\n",
        "result = cv2.addWeighted(warpage, 1, template, 0.5, 0.0) # overlay the original road image with window results\n",
        "\n",
        "\n",
        "\n",
        "\n",
        "#Visualize the results of the window fitting to lane lines\n",
        "plt.imshow(result, cmap='gray')\n",
        "plt.title('Window fitting results')\n",
        "plt.show()\n",
        "\n"
      ],
      "metadata": {
        "id": "e6U7ZPOUi9KL",
        "outputId": "9ec6188a-6045-4436-8bb6-315794fc538e",
        "colab": {
          "base_uri": "https://localhost:8080/",
          "height": 281
        }
      },
      "execution_count": 10,
      "outputs": [
        {
          "output_type": "display_data",
          "data": {
            "text/plain": [
              "<Figure size 432x288 with 1 Axes>"
            ],
            "image/png": "[encoded data removed]"
          },
          "metadata": {
            "needs_background": "light"
          }
        }
      ]
    },
    {
      "cell_type": "markdown",
      "source": [
        "# POLYNOMIAL FITTING"
      ],
      "metadata": {
        "id": "PwVsUXxOlxkC"
      }
    },
    {
      "cell_type": "code",
      "source": [
        "#fit the lane boundaries to the left, right center positions found\n",
        "yvals = range(0,warped.shape[0])\n",
        "\n",
        "res_yvals = np.arange(warped.shape[0]-(window_height/2),0,-window_height)\n",
        "\n",
        "left_fit = np.polyfit(res_yvals, leftx, 2)\n",
        "left_fitx = left_fit[0]*yvals*yvals + left_fit[1]*yvals + left_fit[2]\n",
        "left_fitx = np.array(left_fitx,np.int32)\n",
        "\n",
        "right_fit = np.polyfit(res_yvals, rightx, 2)\n",
        "right_fitx = right_fit[0]*yvals*yvals + right_fit[1]*yvals + right_fit[2]\n",
        "right_fitx = np.array(right_fitx,np.int32)\n",
        "\n",
        "left_lane = np.array(list(zip(np.concatenate((left_fitx-window_width/2, left_fitx[::-1]+window_width/2),axis=0),np.concatenate((yvals,yvals[::-1]),axis=0))),np.int32)\n",
        "right_lane = np.array(list(zip(np.concatenate((right_fitx-window_width/2, right_fitx[::-1]+window_width/2),axis=0),np.concatenate((yvals,yvals[::-1]),axis=0))),np.int32)\n",
        "\n",
        "road = np.zeros_like(img)\n",
        "road_bkg = np.zeros_like(img)\n",
        "cv2.fillPoly(road,[left_lane],color=[255,0,255])\n",
        "#cv2.fillPoly(road,[right_lane],color=[0,0,255])#temp removed\n",
        "cv2.fillPoly(road_bkg,[left_lane],color=[255,255,255])\n",
        "cv2.fillPoly(road_bkg,[right_lane],color=[255,255,255])\n",
        "\n",
        "road_warped = cv2.warpPerspective(road,Minv,img_size,flags=cv2.INTER_LINEAR)\n",
        "road_warped_bkg= cv2.warpPerspective(road_bkg,Minv,img_size,flags=cv2.INTER_LINEAR)\n",
        "\n",
        "base = cv2.addWeighted(img,1.0,road_warped, -1.0, 0.0)\n",
        "result = cv2.addWeighted(base,1.0,road_warped, 1.0, 0.0)\n",
        "\n",
        "#Visualize the results of identified lane lines and overlapping them on to the original undistorted image\n",
        "plt.figure(figsize = (30,20))\n",
        "grid = gridspec.GridSpec(8,2)\n",
        "# set the spacing between axes.\n",
        "grid.update(wspace=0.05, hspace=0.05)  \n",
        "\n",
        "#img_plt = plt.subplot(grid[0])\n",
        "plt.subplot(grid[gidx])\n",
        "plt.imshow(road, cmap=\"gray\")\n",
        "plt.title('Identified lane lines')\n",
        "\n",
        "#img_plt = plt.subplot(grid[1])\n",
        "plt.subplot(grid[gidx+1])\n",
        "plt.imshow(result, cmap=\"gray\")\n",
        "plt.title('Lane lines overlapped on original image')\n"
      ],
      "metadata": {
        "id": "S6nP5_g7jBIf",
        "outputId": "76285ac9-fc8d-474c-cc9e-c33c4b13610f",
        "colab": {
          "base_uri": "https://localhost:8080/",
          "height": 211
        }
      },
      "execution_count": 11,
      "outputs": [
        {
          "output_type": "execute_result",
          "data": {
            "text/plain": [
              "Text(0.5, 1.0, 'Lane lines overlapped on original image')"
            ]
          },
          "metadata": {},
          "execution_count": 11
        },
        {
          "output_type": "display_data",
          "data": {
            "text/plain": [
              "<Figure size 2160x1440 with 2 Axes>"
            ],
            "image/png": "[encoded data removed]"
          },
          "metadata": {
            "needs_background": "light"
          }
        }
      ]
    }
  ]
}